{
 "cells": [
  {
   "cell_type": "markdown",
   "id": "75dacfce",
   "metadata": {},
   "source": [
    "# PROGRAMMING PART 1 - ST10065806\n",
    "\n",
    "Link to Data Set : https://www.kaggle.com/code/slythe/twitter-sentiment-analysis-custom-model/data\n",
    "\n",
    "**Requirements: You will need to have NLTK installed, along with downloading the corpus for stopwords. To download everything with a conda installation, run the cell below.**"
   ]
  },
  {
   "cell_type": "code",
   "execution_count": 1,
   "id": "46925e3f",
   "metadata": {},
   "outputs": [],
   "source": [
    "# ONLY RUN THIS CELL IF YOU NEED \n",
    "# TO DOWNLOAD NLTK AND HAVE CONDA\n",
    "# WATCH THE VIDEO FOR FULL INSTRUCTIONS ON THIS STEP\n",
    "\n",
    "# Uncomment the code below and run:\n",
    "\n",
    "# !conda install nltk #This installs nltk\n",
    "# import nltk # Imports the library\n",
    "# nltk.download() #Download the necessary datasets"
   ]
  },
  {
   "cell_type": "markdown",
   "id": "c0332bc2",
   "metadata": {},
   "source": [
    "## Imports\n",
    "\n",
    "Import tensorflow, nltk, pandas, numpy, matplotlib,and seaborn. Then set %matplotlib inline"
   ]
  },
  {
   "cell_type": "code",
   "execution_count": 2,
   "id": "c637f0f9",
   "metadata": {},
   "outputs": [],
   "source": [
    "import tensorflow as tf\n",
    "import matplotlib.pyplot as plt\n",
    "import pandas as pd\n",
    "import numpy as np\n",
    "import seaborn as sns\n",
    "%matplotlib inline"
   ]
  },
  {
   "cell_type": "code",
   "execution_count": 3,
   "id": "3fc18d3c",
   "metadata": {},
   "outputs": [],
   "source": [
    "import nltk\n",
    "from nltk.corpus import stopwords\n",
    "from nltk.stem import SnowballStemmer\n",
    "from sklearn.model_selection import train_test_split\n",
    "from sklearn.preprocessing import LabelEncoder\n",
    "import re"
   ]
  },
  {
   "cell_type": "markdown",
   "id": "c6197d5f",
   "metadata": {},
   "source": [
    "## Getting Text\n",
    "\n",
    "It contains 1,600,000 tweets extracted using the twitter api . The tweets have been annotated (0 = negative, 2 = neutral, 4 = positive) and they will be used for this sentiment analysis.\n",
    "\n",
    "**We can simply use pandas instead of manually parsing TSV in Python**\n",
    "\n",
    "We'll use **read_csv**, to read the data in*."
   ]
  },
  {
   "cell_type": "code",
   "execution_count": 4,
   "id": "df8f4cf5",
   "metadata": {},
   "outputs": [
    {
     "data": {
      "text/html": [
       "<div>\n",
       "<style scoped>\n",
       "    .dataframe tbody tr th:only-of-type {\n",
       "        vertical-align: middle;\n",
       "    }\n",
       "\n",
       "    .dataframe tbody tr th {\n",
       "        vertical-align: top;\n",
       "    }\n",
       "\n",
       "    .dataframe thead th {\n",
       "        text-align: right;\n",
       "    }\n",
       "</style>\n",
       "<table border=\"1\" class=\"dataframe\">\n",
       "  <thead>\n",
       "    <tr style=\"text-align: right;\">\n",
       "      <th></th>\n",
       "      <th>0</th>\n",
       "      <th>1</th>\n",
       "      <th>2</th>\n",
       "      <th>3</th>\n",
       "      <th>4</th>\n",
       "      <th>5</th>\n",
       "    </tr>\n",
       "  </thead>\n",
       "  <tbody>\n",
       "    <tr>\n",
       "      <th>0</th>\n",
       "      <td>0</td>\n",
       "      <td>1467810369</td>\n",
       "      <td>Mon Apr 06 22:19:45 PDT 2009</td>\n",
       "      <td>NO_QUERY</td>\n",
       "      <td>_TheSpecialOne_</td>\n",
       "      <td>@switchfoot http://twitpic.com/2y1zl - Awww, t...</td>\n",
       "    </tr>\n",
       "    <tr>\n",
       "      <th>1</th>\n",
       "      <td>0</td>\n",
       "      <td>1467810672</td>\n",
       "      <td>Mon Apr 06 22:19:49 PDT 2009</td>\n",
       "      <td>NO_QUERY</td>\n",
       "      <td>scotthamilton</td>\n",
       "      <td>is upset that he can't update his Facebook by ...</td>\n",
       "    </tr>\n",
       "    <tr>\n",
       "      <th>2</th>\n",
       "      <td>0</td>\n",
       "      <td>1467810917</td>\n",
       "      <td>Mon Apr 06 22:19:53 PDT 2009</td>\n",
       "      <td>NO_QUERY</td>\n",
       "      <td>mattycus</td>\n",
       "      <td>@Kenichan I dived many times for the ball. Man...</td>\n",
       "    </tr>\n",
       "    <tr>\n",
       "      <th>3</th>\n",
       "      <td>0</td>\n",
       "      <td>1467811184</td>\n",
       "      <td>Mon Apr 06 22:19:57 PDT 2009</td>\n",
       "      <td>NO_QUERY</td>\n",
       "      <td>ElleCTF</td>\n",
       "      <td>my whole body feels itchy and like its on fire</td>\n",
       "    </tr>\n",
       "    <tr>\n",
       "      <th>4</th>\n",
       "      <td>0</td>\n",
       "      <td>1467811193</td>\n",
       "      <td>Mon Apr 06 22:19:57 PDT 2009</td>\n",
       "      <td>NO_QUERY</td>\n",
       "      <td>Karoli</td>\n",
       "      <td>@nationwideclass no, it's not behaving at all....</td>\n",
       "    </tr>\n",
       "  </tbody>\n",
       "</table>\n",
       "</div>"
      ],
      "text/plain": [
       "   0           1                             2         3                4  \\\n",
       "0  0  1467810369  Mon Apr 06 22:19:45 PDT 2009  NO_QUERY  _TheSpecialOne_   \n",
       "1  0  1467810672  Mon Apr 06 22:19:49 PDT 2009  NO_QUERY    scotthamilton   \n",
       "2  0  1467810917  Mon Apr 06 22:19:53 PDT 2009  NO_QUERY         mattycus   \n",
       "3  0  1467811184  Mon Apr 06 22:19:57 PDT 2009  NO_QUERY          ElleCTF   \n",
       "4  0  1467811193  Mon Apr 06 22:19:57 PDT 2009  NO_QUERY           Karoli   \n",
       "\n",
       "                                                   5  \n",
       "0  @switchfoot http://twitpic.com/2y1zl - Awww, t...  \n",
       "1  is upset that he can't update his Facebook by ...  \n",
       "2  @Kenichan I dived many times for the ball. Man...  \n",
       "3    my whole body feels itchy and like its on fire   \n",
       "4  @nationwideclass no, it's not behaving at all....  "
      ]
     },
     "execution_count": 4,
     "metadata": {},
     "output_type": "execute_result"
    }
   ],
   "source": [
    "twitter = pd.read_csv('twitter.csv', encoding = 'latin',header=None)\n",
    "twitter.head()"
   ]
  },
  {
   "cell_type": "markdown",
   "id": "763ed13c",
   "metadata": {},
   "source": [
    "## Exploratory Data Analysis\n",
    "\n",
    "Let's check out some of the stats with some plots and the built-in methods in pandas and matplotlib!"
   ]
  },
  {
   "cell_type": "code",
   "execution_count": 5,
   "id": "5930670c",
   "metadata": {},
   "outputs": [
    {
     "data": {
      "text/html": [
       "<div>\n",
       "<style scoped>\n",
       "    .dataframe tbody tr th:only-of-type {\n",
       "        vertical-align: middle;\n",
       "    }\n",
       "\n",
       "    .dataframe tbody tr th {\n",
       "        vertical-align: top;\n",
       "    }\n",
       "\n",
       "    .dataframe thead th {\n",
       "        text-align: right;\n",
       "    }\n",
       "</style>\n",
       "<table border=\"1\" class=\"dataframe\">\n",
       "  <thead>\n",
       "    <tr style=\"text-align: right;\">\n",
       "      <th></th>\n",
       "      <th>0</th>\n",
       "      <th>1</th>\n",
       "    </tr>\n",
       "  </thead>\n",
       "  <tbody>\n",
       "    <tr>\n",
       "      <th>count</th>\n",
       "      <td>1.600000e+06</td>\n",
       "      <td>1.600000e+06</td>\n",
       "    </tr>\n",
       "    <tr>\n",
       "      <th>mean</th>\n",
       "      <td>2.000000e+00</td>\n",
       "      <td>1.998818e+09</td>\n",
       "    </tr>\n",
       "    <tr>\n",
       "      <th>std</th>\n",
       "      <td>2.000001e+00</td>\n",
       "      <td>1.935761e+08</td>\n",
       "    </tr>\n",
       "    <tr>\n",
       "      <th>min</th>\n",
       "      <td>0.000000e+00</td>\n",
       "      <td>1.467810e+09</td>\n",
       "    </tr>\n",
       "    <tr>\n",
       "      <th>25%</th>\n",
       "      <td>0.000000e+00</td>\n",
       "      <td>1.956916e+09</td>\n",
       "    </tr>\n",
       "    <tr>\n",
       "      <th>50%</th>\n",
       "      <td>2.000000e+00</td>\n",
       "      <td>2.002102e+09</td>\n",
       "    </tr>\n",
       "    <tr>\n",
       "      <th>75%</th>\n",
       "      <td>4.000000e+00</td>\n",
       "      <td>2.177059e+09</td>\n",
       "    </tr>\n",
       "    <tr>\n",
       "      <th>max</th>\n",
       "      <td>4.000000e+00</td>\n",
       "      <td>2.329206e+09</td>\n",
       "    </tr>\n",
       "  </tbody>\n",
       "</table>\n",
       "</div>"
      ],
      "text/plain": [
       "                  0             1\n",
       "count  1.600000e+06  1.600000e+06\n",
       "mean   2.000000e+00  1.998818e+09\n",
       "std    2.000001e+00  1.935761e+08\n",
       "min    0.000000e+00  1.467810e+09\n",
       "25%    0.000000e+00  1.956916e+09\n",
       "50%    2.000000e+00  2.002102e+09\n",
       "75%    4.000000e+00  2.177059e+09\n",
       "max    4.000000e+00  2.329206e+09"
      ]
     },
     "execution_count": 5,
     "metadata": {},
     "output_type": "execute_result"
    }
   ],
   "source": [
    "twitter.describe()"
   ]
  },
  {
   "cell_type": "markdown",
   "id": "57849386",
   "metadata": {},
   "source": [
    "You can see the columns are without any proper names. Lets rename them for our reference."
   ]
  },
  {
   "cell_type": "code",
   "execution_count": 6,
   "id": "cd5e121c",
   "metadata": {},
   "outputs": [
    {
     "data": {
      "text/html": [
       "<div>\n",
       "<style scoped>\n",
       "    .dataframe tbody tr th:only-of-type {\n",
       "        vertical-align: middle;\n",
       "    }\n",
       "\n",
       "    .dataframe tbody tr th {\n",
       "        vertical-align: top;\n",
       "    }\n",
       "\n",
       "    .dataframe thead th {\n",
       "        text-align: right;\n",
       "    }\n",
       "</style>\n",
       "<table border=\"1\" class=\"dataframe\">\n",
       "  <thead>\n",
       "    <tr style=\"text-align: right;\">\n",
       "      <th></th>\n",
       "      <th>Sentiment</th>\n",
       "      <th>Identification</th>\n",
       "      <th>Date &amp; Time</th>\n",
       "      <th>Query</th>\n",
       "      <th>User</th>\n",
       "      <th>Text</th>\n",
       "    </tr>\n",
       "  </thead>\n",
       "  <tbody>\n",
       "    <tr>\n",
       "      <th>0</th>\n",
       "      <td>0</td>\n",
       "      <td>1467810369</td>\n",
       "      <td>Mon Apr 06 22:19:45 PDT 2009</td>\n",
       "      <td>NO_QUERY</td>\n",
       "      <td>_TheSpecialOne_</td>\n",
       "      <td>@switchfoot http://twitpic.com/2y1zl - Awww, t...</td>\n",
       "    </tr>\n",
       "    <tr>\n",
       "      <th>1</th>\n",
       "      <td>0</td>\n",
       "      <td>1467810672</td>\n",
       "      <td>Mon Apr 06 22:19:49 PDT 2009</td>\n",
       "      <td>NO_QUERY</td>\n",
       "      <td>scotthamilton</td>\n",
       "      <td>is upset that he can't update his Facebook by ...</td>\n",
       "    </tr>\n",
       "    <tr>\n",
       "      <th>2</th>\n",
       "      <td>0</td>\n",
       "      <td>1467810917</td>\n",
       "      <td>Mon Apr 06 22:19:53 PDT 2009</td>\n",
       "      <td>NO_QUERY</td>\n",
       "      <td>mattycus</td>\n",
       "      <td>@Kenichan I dived many times for the ball. Man...</td>\n",
       "    </tr>\n",
       "    <tr>\n",
       "      <th>3</th>\n",
       "      <td>0</td>\n",
       "      <td>1467811184</td>\n",
       "      <td>Mon Apr 06 22:19:57 PDT 2009</td>\n",
       "      <td>NO_QUERY</td>\n",
       "      <td>ElleCTF</td>\n",
       "      <td>my whole body feels itchy and like its on fire</td>\n",
       "    </tr>\n",
       "    <tr>\n",
       "      <th>4</th>\n",
       "      <td>0</td>\n",
       "      <td>1467811193</td>\n",
       "      <td>Mon Apr 06 22:19:57 PDT 2009</td>\n",
       "      <td>NO_QUERY</td>\n",
       "      <td>Karoli</td>\n",
       "      <td>@nationwideclass no, it's not behaving at all....</td>\n",
       "    </tr>\n",
       "  </tbody>\n",
       "</table>\n",
       "</div>"
      ],
      "text/plain": [
       "   Sentiment  Identification                   Date & Time     Query  \\\n",
       "0          0      1467810369  Mon Apr 06 22:19:45 PDT 2009  NO_QUERY   \n",
       "1          0      1467810672  Mon Apr 06 22:19:49 PDT 2009  NO_QUERY   \n",
       "2          0      1467810917  Mon Apr 06 22:19:53 PDT 2009  NO_QUERY   \n",
       "3          0      1467811184  Mon Apr 06 22:19:57 PDT 2009  NO_QUERY   \n",
       "4          0      1467811193  Mon Apr 06 22:19:57 PDT 2009  NO_QUERY   \n",
       "\n",
       "              User                                               Text  \n",
       "0  _TheSpecialOne_  @switchfoot http://twitpic.com/2y1zl - Awww, t...  \n",
       "1    scotthamilton  is upset that he can't update his Facebook by ...  \n",
       "2         mattycus  @Kenichan I dived many times for the ball. Man...  \n",
       "3          ElleCTF    my whole body feels itchy and like its on fire   \n",
       "4           Karoli  @nationwideclass no, it's not behaving at all....  "
      ]
     },
     "execution_count": 6,
     "metadata": {},
     "output_type": "execute_result"
    }
   ],
   "source": [
    "twitter.columns = ['Sentiment', 'Identification', 'Date & Time', 'Query', 'User', 'Text']\n",
    "twitter.head()"
   ]
  },
  {
   "cell_type": "markdown",
   "id": "1491d22c",
   "metadata": {},
   "source": [
    "We want to begin considering the features we'll be employing as we carry out our analysis. This is consistent with the feature engineering philosophy in general. Your capacity to develop new characteristics from the data depends on how well you understand its domain. In general, feature engineering plays a significant role in spam detection.\n",
    "\n",
    "Let's make a new column to detect how long the text messages are:"
   ]
  },
  {
   "cell_type": "code",
   "execution_count": 7,
   "id": "26147e32",
   "metadata": {},
   "outputs": [
    {
     "data": {
      "text/html": [
       "<div>\n",
       "<style scoped>\n",
       "    .dataframe tbody tr th:only-of-type {\n",
       "        vertical-align: middle;\n",
       "    }\n",
       "\n",
       "    .dataframe tbody tr th {\n",
       "        vertical-align: top;\n",
       "    }\n",
       "\n",
       "    .dataframe thead th {\n",
       "        text-align: right;\n",
       "    }\n",
       "</style>\n",
       "<table border=\"1\" class=\"dataframe\">\n",
       "  <thead>\n",
       "    <tr style=\"text-align: right;\">\n",
       "      <th></th>\n",
       "      <th>Sentiment</th>\n",
       "      <th>Identification</th>\n",
       "      <th>Date &amp; Time</th>\n",
       "      <th>Query</th>\n",
       "      <th>User</th>\n",
       "      <th>Text</th>\n",
       "      <th>length</th>\n",
       "    </tr>\n",
       "  </thead>\n",
       "  <tbody>\n",
       "    <tr>\n",
       "      <th>0</th>\n",
       "      <td>0</td>\n",
       "      <td>1467810369</td>\n",
       "      <td>Mon Apr 06 22:19:45 PDT 2009</td>\n",
       "      <td>NO_QUERY</td>\n",
       "      <td>_TheSpecialOne_</td>\n",
       "      <td>@switchfoot http://twitpic.com/2y1zl - Awww, t...</td>\n",
       "      <td>115</td>\n",
       "    </tr>\n",
       "    <tr>\n",
       "      <th>1</th>\n",
       "      <td>0</td>\n",
       "      <td>1467810672</td>\n",
       "      <td>Mon Apr 06 22:19:49 PDT 2009</td>\n",
       "      <td>NO_QUERY</td>\n",
       "      <td>scotthamilton</td>\n",
       "      <td>is upset that he can't update his Facebook by ...</td>\n",
       "      <td>111</td>\n",
       "    </tr>\n",
       "    <tr>\n",
       "      <th>2</th>\n",
       "      <td>0</td>\n",
       "      <td>1467810917</td>\n",
       "      <td>Mon Apr 06 22:19:53 PDT 2009</td>\n",
       "      <td>NO_QUERY</td>\n",
       "      <td>mattycus</td>\n",
       "      <td>@Kenichan I dived many times for the ball. Man...</td>\n",
       "      <td>89</td>\n",
       "    </tr>\n",
       "    <tr>\n",
       "      <th>3</th>\n",
       "      <td>0</td>\n",
       "      <td>1467811184</td>\n",
       "      <td>Mon Apr 06 22:19:57 PDT 2009</td>\n",
       "      <td>NO_QUERY</td>\n",
       "      <td>ElleCTF</td>\n",
       "      <td>my whole body feels itchy and like its on fire</td>\n",
       "      <td>47</td>\n",
       "    </tr>\n",
       "    <tr>\n",
       "      <th>4</th>\n",
       "      <td>0</td>\n",
       "      <td>1467811193</td>\n",
       "      <td>Mon Apr 06 22:19:57 PDT 2009</td>\n",
       "      <td>NO_QUERY</td>\n",
       "      <td>Karoli</td>\n",
       "      <td>@nationwideclass no, it's not behaving at all....</td>\n",
       "      <td>111</td>\n",
       "    </tr>\n",
       "  </tbody>\n",
       "</table>\n",
       "</div>"
      ],
      "text/plain": [
       "   Sentiment  Identification                   Date & Time     Query  \\\n",
       "0          0      1467810369  Mon Apr 06 22:19:45 PDT 2009  NO_QUERY   \n",
       "1          0      1467810672  Mon Apr 06 22:19:49 PDT 2009  NO_QUERY   \n",
       "2          0      1467810917  Mon Apr 06 22:19:53 PDT 2009  NO_QUERY   \n",
       "3          0      1467811184  Mon Apr 06 22:19:57 PDT 2009  NO_QUERY   \n",
       "4          0      1467811193  Mon Apr 06 22:19:57 PDT 2009  NO_QUERY   \n",
       "\n",
       "              User                                               Text  length  \n",
       "0  _TheSpecialOne_  @switchfoot http://twitpic.com/2y1zl - Awww, t...     115  \n",
       "1    scotthamilton  is upset that he can't update his Facebook by ...     111  \n",
       "2         mattycus  @Kenichan I dived many times for the ball. Man...      89  \n",
       "3          ElleCTF    my whole body feels itchy and like its on fire       47  \n",
       "4           Karoli  @nationwideclass no, it's not behaving at all....     111  "
      ]
     },
     "execution_count": 7,
     "metadata": {},
     "output_type": "execute_result"
    }
   ],
   "source": [
    "twitter['length'] = twitter['Text'].apply(len)\n",
    "twitter.head()"
   ]
  },
  {
   "cell_type": "markdown",
   "id": "eeab3b8a",
   "metadata": {},
   "source": [
    "Let's use **groupby** to use describe by Sentiment, this way we can begin to think about the features that separate positive and negative!"
   ]
  },
  {
   "cell_type": "code",
   "execution_count": 8,
   "id": "bbd8b622",
   "metadata": {},
   "outputs": [
    {
     "data": {
      "text/html": [
       "<div>\n",
       "<style scoped>\n",
       "    .dataframe tbody tr th:only-of-type {\n",
       "        vertical-align: middle;\n",
       "    }\n",
       "\n",
       "    .dataframe tbody tr th {\n",
       "        vertical-align: top;\n",
       "    }\n",
       "\n",
       "    .dataframe thead tr th {\n",
       "        text-align: left;\n",
       "    }\n",
       "\n",
       "    .dataframe thead tr:last-of-type th {\n",
       "        text-align: right;\n",
       "    }\n",
       "</style>\n",
       "<table border=\"1\" class=\"dataframe\">\n",
       "  <thead>\n",
       "    <tr>\n",
       "      <th></th>\n",
       "      <th colspan=\"8\" halign=\"left\">Identification</th>\n",
       "      <th colspan=\"8\" halign=\"left\">length</th>\n",
       "    </tr>\n",
       "    <tr>\n",
       "      <th></th>\n",
       "      <th>count</th>\n",
       "      <th>mean</th>\n",
       "      <th>std</th>\n",
       "      <th>min</th>\n",
       "      <th>25%</th>\n",
       "      <th>50%</th>\n",
       "      <th>75%</th>\n",
       "      <th>max</th>\n",
       "      <th>count</th>\n",
       "      <th>mean</th>\n",
       "      <th>std</th>\n",
       "      <th>min</th>\n",
       "      <th>25%</th>\n",
       "      <th>50%</th>\n",
       "      <th>75%</th>\n",
       "      <th>max</th>\n",
       "    </tr>\n",
       "    <tr>\n",
       "      <th>Sentiment</th>\n",
       "      <th></th>\n",
       "      <th></th>\n",
       "      <th></th>\n",
       "      <th></th>\n",
       "      <th></th>\n",
       "      <th></th>\n",
       "      <th></th>\n",
       "      <th></th>\n",
       "      <th></th>\n",
       "      <th></th>\n",
       "      <th></th>\n",
       "      <th></th>\n",
       "      <th></th>\n",
       "      <th></th>\n",
       "      <th></th>\n",
       "      <th></th>\n",
       "    </tr>\n",
       "  </thead>\n",
       "  <tbody>\n",
       "    <tr>\n",
       "      <th>0</th>\n",
       "      <td>800000.0</td>\n",
       "      <td>2.049457e+09</td>\n",
       "      <td>2.025848e+08</td>\n",
       "      <td>1.467810e+09</td>\n",
       "      <td>1.971571e+09</td>\n",
       "      <td>2.057298e+09</td>\n",
       "      <td>2.220801e+09</td>\n",
       "      <td>2.329206e+09</td>\n",
       "      <td>800000.0</td>\n",
       "      <td>74.301790</td>\n",
       "      <td>36.743260</td>\n",
       "      <td>6.0</td>\n",
       "      <td>44.0</td>\n",
       "      <td>70.0</td>\n",
       "      <td>104.0</td>\n",
       "      <td>359.0</td>\n",
       "    </tr>\n",
       "    <tr>\n",
       "      <th>4</th>\n",
       "      <td>800000.0</td>\n",
       "      <td>1.948178e+09</td>\n",
       "      <td>1.696291e+08</td>\n",
       "      <td>1.467822e+09</td>\n",
       "      <td>1.879943e+09</td>\n",
       "      <td>1.985419e+09</td>\n",
       "      <td>2.054322e+09</td>\n",
       "      <td>2.193602e+09</td>\n",
       "      <td>800000.0</td>\n",
       "      <td>73.878433</td>\n",
       "      <td>36.135274</td>\n",
       "      <td>6.0</td>\n",
       "      <td>44.0</td>\n",
       "      <td>69.0</td>\n",
       "      <td>103.0</td>\n",
       "      <td>374.0</td>\n",
       "    </tr>\n",
       "  </tbody>\n",
       "</table>\n",
       "</div>"
      ],
      "text/plain": [
       "          Identification                                            \\\n",
       "                   count          mean           std           min   \n",
       "Sentiment                                                            \n",
       "0               800000.0  2.049457e+09  2.025848e+08  1.467810e+09   \n",
       "4               800000.0  1.948178e+09  1.696291e+08  1.467822e+09   \n",
       "\n",
       "                                                                     length  \\\n",
       "                    25%           50%           75%           max     count   \n",
       "Sentiment                                                                     \n",
       "0          1.971571e+09  2.057298e+09  2.220801e+09  2.329206e+09  800000.0   \n",
       "4          1.879943e+09  1.985419e+09  2.054322e+09  2.193602e+09  800000.0   \n",
       "\n",
       "                                                                \n",
       "                mean        std  min   25%   50%    75%    max  \n",
       "Sentiment                                                       \n",
       "0          74.301790  36.743260  6.0  44.0  70.0  104.0  359.0  \n",
       "4          73.878433  36.135274  6.0  44.0  69.0  103.0  374.0  "
      ]
     },
     "execution_count": 8,
     "metadata": {},
     "output_type": "execute_result"
    }
   ],
   "source": [
    "twitter.groupby('Sentiment').describe()"
   ]
  },
  {
   "cell_type": "markdown",
   "id": "1f64e713",
   "metadata": {},
   "source": [
    "Here is a breakdown of the labels. In accordance with the data set description, we map 0 to negative and 1 to positive. We will now analyse the dataset based on its distribution after decoding. Because it's crucial that we have a relatively small number of examples for the classes in question."
   ]
  },
  {
   "cell_type": "code",
   "execution_count": 9,
   "id": "71842d36",
   "metadata": {},
   "outputs": [
    {
     "data": {
      "text/plain": [
       "Text(0.5, 1.0, 'Sentiment Data Distribution')"
      ]
     },
     "execution_count": 9,
     "metadata": {},
     "output_type": "execute_result"
    },
    {
     "data": {
      "image/png": "[encoded data removed]",
      "text/plain": [
       "<Figure size 576x288 with 1 Axes>"
      ]
     },
     "metadata": {
      "needs_background": "light"
     },
     "output_type": "display_data"
    }
   ],
   "source": [
    "val_count = twitter.Sentiment.value_counts()\n",
    "\n",
    "plt.figure(figsize=(8,4))\n",
    "plt.bar(val_count.index, val_count.values)\n",
    "plt.title(\"Sentiment Data Distribution\")"
   ]
  },
  {
   "cell_type": "markdown",
   "id": "28e448b5",
   "metadata": {},
   "source": [
    "## Data Visualization"
   ]
  },
  {
   "cell_type": "code",
   "execution_count": 10,
   "id": "e57920bf",
   "metadata": {},
   "outputs": [
    {
     "data": {
      "text/plain": [
       "<AxesSubplot:ylabel='Frequency'>"
      ]
     },
     "execution_count": 10,
     "metadata": {},
     "output_type": "execute_result"
    },
    {
     "data": {
      "image/png": "[encoded data removed]",
      "text/plain": [
       "<Figure size 432x288 with 1 Axes>"
      ]
     },
     "metadata": {
      "needs_background": "light"
     },
     "output_type": "display_data"
    }
   ],
   "source": [
    "twitter['length'].plot(bins=50, kind='hist')"
   ]
  },
  {
   "cell_type": "code",
   "execution_count": 11,
   "id": "431d582d",
   "metadata": {},
   "outputs": [
    {
     "data": {
      "text/plain": [
       "array([<AxesSubplot:title={'center':'0'}>,\n",
       "       <AxesSubplot:title={'center':'4'}>], dtype=object)"
      ]
     },
     "execution_count": 11,
     "metadata": {},
     "output_type": "execute_result"
    },
    {
     "data": {
      "image/png": "[encoded data removed]",
      "text/plain": [
       "<Figure size 864x288 with 2 Axes>"
      ]
     },
     "metadata": {
      "needs_background": "light"
     },
     "output_type": "display_data"
    }
   ],
   "source": [
    "twitter.hist(column='length', by='Sentiment', bins=50,figsize=(12,4))"
   ]
  },
  {
   "cell_type": "markdown",
   "id": "c1df2dd3",
   "metadata": {},
   "source": [
    "Very interesting! Through just basic EDA we've been able to discover a trend that positive messages tend to have more characters. \n",
    "\n",
    "Let's start processing the data so that we can eventually use SciKit Learn with it!"
   ]
  },
  {
   "cell_type": "markdown",
   "id": "afb05849",
   "metadata": {},
   "source": [
    "## Data Pre-processing"
   ]
  },
  {
   "cell_type": "markdown",
   "id": "b8fabfa1",
   "metadata": {},
   "source": [
    "We are going to train only on text to classify its sentiment. So we can ditch the rest of the useless columns."
   ]
  },
  {
   "cell_type": "code",
   "execution_count": 12,
   "id": "c5fb0433",
   "metadata": {},
   "outputs": [],
   "source": [
    "twitter = twitter.drop(['Identification', 'Date & Time', 'Query', 'User', 'length'], axis=1)"
   ]
  },
  {
   "cell_type": "code",
   "execution_count": 13,
   "id": "c486c810",
   "metadata": {},
   "outputs": [
    {
     "data": {
      "text/html": [
       "<div>\n",
       "<style scoped>\n",
       "    .dataframe tbody tr th:only-of-type {\n",
       "        vertical-align: middle;\n",
       "    }\n",
       "\n",
       "    .dataframe tbody tr th {\n",
       "        vertical-align: top;\n",
       "    }\n",
       "\n",
       "    .dataframe thead th {\n",
       "        text-align: right;\n",
       "    }\n",
       "</style>\n",
       "<table border=\"1\" class=\"dataframe\">\n",
       "  <thead>\n",
       "    <tr style=\"text-align: right;\">\n",
       "      <th></th>\n",
       "      <th>Sentiment</th>\n",
       "      <th>Text</th>\n",
       "    </tr>\n",
       "  </thead>\n",
       "  <tbody>\n",
       "    <tr>\n",
       "      <th>0</th>\n",
       "      <td>Negative</td>\n",
       "      <td>@switchfoot http://twitpic.com/2y1zl - Awww, t...</td>\n",
       "    </tr>\n",
       "    <tr>\n",
       "      <th>1</th>\n",
       "      <td>Negative</td>\n",
       "      <td>is upset that he can't update his Facebook by ...</td>\n",
       "    </tr>\n",
       "    <tr>\n",
       "      <th>2</th>\n",
       "      <td>Negative</td>\n",
       "      <td>@Kenichan I dived many times for the ball. Man...</td>\n",
       "    </tr>\n",
       "    <tr>\n",
       "      <th>3</th>\n",
       "      <td>Negative</td>\n",
       "      <td>my whole body feels itchy and like its on fire</td>\n",
       "    </tr>\n",
       "    <tr>\n",
       "      <th>4</th>\n",
       "      <td>Negative</td>\n",
       "      <td>@nationwideclass no, it's not behaving at all....</td>\n",
       "    </tr>\n",
       "  </tbody>\n",
       "</table>\n",
       "</div>"
      ],
      "text/plain": [
       "  Sentiment                                               Text\n",
       "0  Negative  @switchfoot http://twitpic.com/2y1zl - Awww, t...\n",
       "1  Negative  is upset that he can't update his Facebook by ...\n",
       "2  Negative  @Kenichan I dived many times for the ball. Man...\n",
       "3  Negative    my whole body feels itchy and like its on fire \n",
       "4  Negative  @nationwideclass no, it's not behaving at all...."
      ]
     },
     "execution_count": 13,
     "metadata": {},
     "output_type": "execute_result"
    }
   ],
   "source": [
    "lab_to_Sentiment = {0:\"Negative\", 4:\"Positive\"}\n",
    "def label_decoder(label):\n",
    "  return lab_to_Sentiment[label]\n",
    "twitter.Sentiment = twitter.Sentiment.apply(lambda x: label_decoder(x))\n",
    "twitter.head()"
   ]
  },
  {
   "cell_type": "code",
   "execution_count": 14,
   "id": "1a567d2b",
   "metadata": {},
   "outputs": [
    {
     "data": {
      "text/html": [
       "<div>\n",
       "<style scoped>\n",
       "    .dataframe tbody tr th:only-of-type {\n",
       "        vertical-align: middle;\n",
       "    }\n",
       "\n",
       "    .dataframe tbody tr th {\n",
       "        vertical-align: top;\n",
       "    }\n",
       "\n",
       "    .dataframe thead th {\n",
       "        text-align: right;\n",
       "    }\n",
       "</style>\n",
       "<table border=\"1\" class=\"dataframe\">\n",
       "  <thead>\n",
       "    <tr style=\"text-align: right;\">\n",
       "      <th></th>\n",
       "      <th>Sentiment</th>\n",
       "      <th>Text</th>\n",
       "    </tr>\n",
       "  </thead>\n",
       "  <tbody>\n",
       "    <tr>\n",
       "      <th>1306572</th>\n",
       "      <td>Positive</td>\n",
       "      <td>er'body check out @girlwithnoname's new vlog &amp;...</td>\n",
       "    </tr>\n",
       "    <tr>\n",
       "      <th>1537296</th>\n",
       "      <td>Positive</td>\n",
       "      <td>@SarahFTW nope, if we waste any more time we'l...</td>\n",
       "    </tr>\n",
       "    <tr>\n",
       "      <th>241691</th>\n",
       "      <td>Negative</td>\n",
       "      <td>My mom just asked me if I can skip training to...</td>\n",
       "    </tr>\n",
       "    <tr>\n",
       "      <th>653229</th>\n",
       "      <td>Negative</td>\n",
       "      <td>@LauraRIOT I can'ny find it</td>\n",
       "    </tr>\n",
       "    <tr>\n",
       "      <th>1266037</th>\n",
       "      <td>Positive</td>\n",
       "      <td>@humanpitbull lol ooopss my badd</td>\n",
       "    </tr>\n",
       "    <tr>\n",
       "      <th>208203</th>\n",
       "      <td>Negative</td>\n",
       "      <td>pokerface is stuck in my head. and im prettty ...</td>\n",
       "    </tr>\n",
       "    <tr>\n",
       "      <th>873458</th>\n",
       "      <td>Positive</td>\n",
       "      <td>just going to shop brb</td>\n",
       "    </tr>\n",
       "    <tr>\n",
       "      <th>529446</th>\n",
       "      <td>Negative</td>\n",
       "      <td>i need to go and exercise but i cant be bothered</td>\n",
       "    </tr>\n",
       "    <tr>\n",
       "      <th>1459204</th>\n",
       "      <td>Positive</td>\n",
       "      <td>I'm still excited for every new follower - the...</td>\n",
       "    </tr>\n",
       "    <tr>\n",
       "      <th>681676</th>\n",
       "      <td>Negative</td>\n",
       "      <td>@breatheheavycom why?? sold out already? i wan...</td>\n",
       "    </tr>\n",
       "  </tbody>\n",
       "</table>\n",
       "</div>"
      ],
      "text/plain": [
       "        Sentiment                                               Text\n",
       "1306572  Positive  er'body check out @girlwithnoname's new vlog &...\n",
       "1537296  Positive  @SarahFTW nope, if we waste any more time we'l...\n",
       "241691   Negative  My mom just asked me if I can skip training to...\n",
       "653229   Negative                       @LauraRIOT I can'ny find it \n",
       "1266037  Positive                  @humanpitbull lol ooopss my badd \n",
       "208203   Negative  pokerface is stuck in my head. and im prettty ...\n",
       "873458   Positive                            just going to shop brb \n",
       "529446   Negative  i need to go and exercise but i cant be bothered \n",
       "1459204  Positive  I'm still excited for every new follower - the...\n",
       "681676   Negative  @breatheheavycom why?? sold out already? i wan..."
      ]
     },
     "execution_count": 14,
     "metadata": {},
     "output_type": "execute_result"
    }
   ],
   "source": [
    "import random\n",
    "random_idx_list = [random.randint(1,len(twitter.Text)) for i in range(10)] # creates random indexes to choose from dataframe\n",
    "twitter.loc[random_idx_list,:].head(10) # Returns the rows with the index and display it"
   ]
  },
  {
   "cell_type": "markdown",
   "id": "b76de4fd",
   "metadata": {},
   "source": [
    "It appears that the text data is bad quality for use. because we frequently employ words without context and numerous punctuation marks. It is useless as a feature for the model we are building. Therefore, we must get rid of them."
   ]
  },
  {
   "cell_type": "markdown",
   "id": "ca8a864c",
   "metadata": {},
   "source": [
    "## Text Pre-processing\n",
    "\n",
    "The fact that all of our data is in text format is our major problem (strings). The classification task will be carried out by the classification algorithms that we have learned about so far using some kind of numerical feature vector. A corpus can be converted to a vector format using a variety of techniques. The [bag-of-words] technique, where each distinct word in a text is represented by one integer, is the simplest.\n",
    "\n",
    "The raw messages (sequence of characters) will be converted into vectors in this phase (sequences of numbers).\n",
    "\n",
    "Let's start by creating a function that breaks down a message into its component words and returns a list. We'll also get rid of words like \"the\" and \"a,\" etc. We will make use of the NLTK library to accomplish this. It is essentially the default Python text processing module and includes a tonne of helpful features. Here, we'll merely employ a few of the fundamental ones.\n",
    "\n",
    "Create a method to handle the text in the message column, and then use pandas' **apply()** function to handle all the text in the DataFrame.\n",
    "\n",
    "First removing punctuation. We can just take advantage of Python's built-in **string** library to get a quick list of all the possible punctuation:"
   ]
  },
  {
   "cell_type": "code",
   "execution_count": 15,
   "id": "b613af4f",
   "metadata": {},
   "outputs": [],
   "source": [
    "stop_words = stopwords.words('english')\n",
    "stemmer = SnowballStemmer('english')\n",
    "\n",
    "text_cleaning_re = \"@\\S+|https?:\\S+|http?:\\S|[^A-Za-z0-9]+\""
   ]
  },
  {
   "cell_type": "markdown",
   "id": "4c71f32d",
   "metadata": {},
   "source": [
    "Stemming, Lemitization and removal of stop words\n",
    "\n",
    "Stemming - Stemming is the process of reducing inflected or derived words to their word stem or root.\n",
    "\n",
    "Lemitization - Lemmatizing is the process of returning a word to its dictionary form by removing inflectional endings. Although it requires more resources, this text cleaning technique is more accurate."
   ]
  },
  {
   "cell_type": "code",
   "execution_count": 16,
   "id": "625e07d8",
   "metadata": {},
   "outputs": [],
   "source": [
    "def preprocess(text, stem=False):\n",
    "  text = re.sub(text_cleaning_re, ' ', str(text).lower()).strip()\n",
    "  tokens = []\n",
    "  for token in text.split():\n",
    "    if token not in stop_words:\n",
    "      if stem:\n",
    "        tokens.append(stemmer.stem(token))\n",
    "      else:\n",
    "        tokens.append(token)\n",
    "  return \" \".join(tokens)"
   ]
  },
  {
   "cell_type": "code",
   "execution_count": 17,
   "id": "3262e0f9",
   "metadata": {},
   "outputs": [],
   "source": [
    "twitter.Text = twitter.Text.apply(lambda x: preprocess(x))"
   ]
  },
  {
   "cell_type": "markdown",
   "id": "5ed91765",
   "metadata": {},
   "source": [
    "**Now our data has been cleaned, now its neat and tidy.**"
   ]
  },
  {
   "cell_type": "markdown",
   "id": "7670ba78",
   "metadata": {},
   "source": [
    "## Train and Test Split"
   ]
  },
  {
   "cell_type": "code",
   "execution_count": 18,
   "id": "31331bce",
   "metadata": {},
   "outputs": [],
   "source": [
    "Train_Size = 0.7\n",
    "Sequence_Length = 30"
   ]
  },
  {
   "cell_type": "code",
   "execution_count": 19,
   "id": "eca03ba9",
   "metadata": {},
   "outputs": [
    {
     "name": "stdout",
     "output_type": "stream",
     "text": [
      "Train Data size: 1119999\n",
      "Test Data size:  480001\n"
     ]
    }
   ],
   "source": [
    "train_data, test_data = train_test_split(twitter, test_size=1-Train_Size,\n",
    "                                         random_state=7) # Splits Dataset into Training and Testing set\n",
    "print(\"Train Data size:\", len(train_data))\n",
    "print(\"Test Data size: \", len(test_data))"
   ]
  },
  {
   "cell_type": "markdown",
   "id": "2e2aba2a",
   "metadata": {},
   "source": [
    "train_test_split will partition the dataset into training and testing portions after shuffling it. Before training, we must shuffle our dataset."
   ]
  },
  {
   "cell_type": "code",
   "execution_count": 20,
   "id": "1b165331",
   "metadata": {},
   "outputs": [
    {
     "data": {
      "text/html": [
       "<div>\n",
       "<style scoped>\n",
       "    .dataframe tbody tr th:only-of-type {\n",
       "        vertical-align: middle;\n",
       "    }\n",
       "\n",
       "    .dataframe tbody tr th {\n",
       "        vertical-align: top;\n",
       "    }\n",
       "\n",
       "    .dataframe thead th {\n",
       "        text-align: right;\n",
       "    }\n",
       "</style>\n",
       "<table border=\"1\" class=\"dataframe\">\n",
       "  <thead>\n",
       "    <tr style=\"text-align: right;\">\n",
       "      <th></th>\n",
       "      <th>Sentiment</th>\n",
       "      <th>Text</th>\n",
       "    </tr>\n",
       "  </thead>\n",
       "  <tbody>\n",
       "    <tr>\n",
       "      <th>76880</th>\n",
       "      <td>Negative</td>\n",
       "      <td>want mario kart guitar hero wii</td>\n",
       "    </tr>\n",
       "    <tr>\n",
       "      <th>976921</th>\n",
       "      <td>Positive</td>\n",
       "      <td>kareoke bohemian rhapsody chris</td>\n",
       "    </tr>\n",
       "    <tr>\n",
       "      <th>1457834</th>\n",
       "      <td>Positive</td>\n",
       "      <td>larry possible creative umbrella company leisu...</td>\n",
       "    </tr>\n",
       "    <tr>\n",
       "      <th>1264122</th>\n",
       "      <td>Positive</td>\n",
       "      <td>hey chelsea</td>\n",
       "    </tr>\n",
       "    <tr>\n",
       "      <th>912696</th>\n",
       "      <td>Positive</td>\n",
       "      <td>happy mothers day grown n happy amp lil prego ...</td>\n",
       "    </tr>\n",
       "    <tr>\n",
       "      <th>1555914</th>\n",
       "      <td>Positive</td>\n",
       "      <td>never seen gotta see sandra bullock</td>\n",
       "    </tr>\n",
       "    <tr>\n",
       "      <th>1215136</th>\n",
       "      <td>Positive</td>\n",
       "      <td>tjtee bing something would replies called bong...</td>\n",
       "    </tr>\n",
       "    <tr>\n",
       "      <th>235662</th>\n",
       "      <td>Negative</td>\n",
       "      <td>ossim night church needs study japanese</td>\n",
       "    </tr>\n",
       "    <tr>\n",
       "      <th>1343953</th>\n",
       "      <td>Positive</td>\n",
       "      <td>wow thank sherry nicest thing anyone ever said...</td>\n",
       "    </tr>\n",
       "    <tr>\n",
       "      <th>938238</th>\n",
       "      <td>Positive</td>\n",
       "      <td>finally home</td>\n",
       "    </tr>\n",
       "  </tbody>\n",
       "</table>\n",
       "</div>"
      ],
      "text/plain": [
       "        Sentiment                                               Text\n",
       "76880    Negative                    want mario kart guitar hero wii\n",
       "976921   Positive                    kareoke bohemian rhapsody chris\n",
       "1457834  Positive  larry possible creative umbrella company leisu...\n",
       "1264122  Positive                                        hey chelsea\n",
       "912696   Positive  happy mothers day grown n happy amp lil prego ...\n",
       "1555914  Positive                never seen gotta see sandra bullock\n",
       "1215136  Positive  tjtee bing something would replies called bong...\n",
       "235662   Negative            ossim night church needs study japanese\n",
       "1343953  Positive  wow thank sherry nicest thing anyone ever said...\n",
       "938238   Positive                                       finally home"
      ]
     },
     "execution_count": 20,
     "metadata": {},
     "output_type": "execute_result"
    }
   ],
   "source": [
    "train_data.head(10)"
   ]
  },
  {
   "cell_type": "markdown",
   "id": "c04d744e",
   "metadata": {},
   "source": [
    "## Tokenization\n",
    "\n",
    "Tokenization is the process of breaking down a character sequence into smaller units, known as tokens, sometimes while also removing some characters, like punctuation. Tokenization is the term for the procedure."
   ]
  },
  {
   "cell_type": "code",
   "execution_count": 21,
   "id": "170f6f1a",
   "metadata": {},
   "outputs": [
    {
     "name": "stdout",
     "output_type": "stream",
     "text": [
      "Vocabulary Size : 266804\n"
     ]
    }
   ],
   "source": [
    "from keras.preprocessing.text import Tokenizer\n",
    "\n",
    "tokenizer = Tokenizer()\n",
    "tokenizer.fit_on_texts(train_data.Text)\n",
    "\n",
    "word_index = tokenizer.word_index\n",
    "vocab_size = len(tokenizer.word_index) + 1\n",
    "print(\"Vocabulary Size :\", vocab_size)"
   ]
  },
  {
   "cell_type": "code",
   "execution_count": 22,
   "id": "f4163c1c",
   "metadata": {},
   "outputs": [
    {
     "name": "stdout",
     "output_type": "stream",
     "text": [
      "Training X Shape: (1119999, 30)\n",
      "Testing X Shape: (480001, 30)\n"
     ]
    }
   ],
   "source": [
    "from keras_preprocessing.sequence import pad_sequences\n",
    "\n",
    "\n",
    "x_train = pad_sequences(tokenizer.texts_to_sequences(train_data.Text),\n",
    "                        maxlen = Sequence_Length)\n",
    "x_test = pad_sequences(tokenizer.texts_to_sequences(test_data.Text),\n",
    "                       maxlen = Sequence_Length)\n",
    "\n",
    "print(\"Training X Shape:\",x_train.shape)\n",
    "print(\"Testing X Shape:\",x_test.shape)"
   ]
  },
  {
   "cell_type": "markdown",
   "id": "5e991a5a",
   "metadata": {},
   "source": [
    "### Label Encoding\n",
    "\n",
    "We are building the model to predict class in enocoded form (0 or 1 as this is a binary classification). We should encode our training labels to encodings."
   ]
  },
  {
   "cell_type": "code",
   "execution_count": 23,
   "id": "26bc55d2",
   "metadata": {},
   "outputs": [
    {
     "name": "stdout",
     "output_type": "stream",
     "text": [
      "y_train shape: (1119999, 1)\n",
      "y_test shape: (480001, 1)\n"
     ]
    }
   ],
   "source": [
    "encoder = LabelEncoder()\n",
    "encoder.fit(train_data.Sentiment.to_list())\n",
    "\n",
    "y_train = encoder.transform(train_data.Sentiment.to_list())\n",
    "y_test = encoder.transform(test_data.Sentiment.to_list())\n",
    "\n",
    "y_train = y_train.reshape(-1,1)\n",
    "y_test = y_test.reshape(-1,1)\n",
    "\n",
    "print(\"y_train shape:\", y_train.shape)\n",
    "print(\"y_test shape:\", y_test.shape)"
   ]
  },
  {
   "cell_type": "markdown",
   "id": "93df9d13",
   "metadata": {},
   "source": [
    "## Word Embedding\n",
    "\n",
    "Words are shown in Language Model in a way that intends for greater significance and helps learners acquire the patterns and contextual meanings associated with them.\n",
    "\n",
    "One of the widely used methods of document vocabulary encoding is word embedding.\n",
    "\n",
    "It can identify a word's position in a document, its semantic and syntactic similarities, its relationship to other words, etc.\n",
    "\n",
    "We will be using GloVe Embedding, which can be found here https://github.com/stanfordnlp/GloVe"
   ]
  },
  {
   "cell_type": "code",
   "execution_count": 24,
   "id": "73814e0f",
   "metadata": {},
   "outputs": [],
   "source": [
    "Glove = 'glove.6B.300d.txt'\n",
    "Embedding = 300\n",
    "LR = 1e-3\n",
    "Batch_Size = 1024\n",
    "Epochs = 10"
   ]
  },
  {
   "cell_type": "code",
   "execution_count": 25,
   "id": "1920d085",
   "metadata": {},
   "outputs": [
    {
     "name": "stdout",
     "output_type": "stream",
     "text": [
      "Found 400001 word vectors.\n"
     ]
    }
   ],
   "source": [
    "embeddings_index = {}\n",
    "\n",
    "f = open(Glove, encoding=\"utf8\")\n",
    "for line in f:\n",
    "  values = line.split()\n",
    "  word = value = values[0]\n",
    "  coefs = np.asarray(values[1:], dtype='float32')\n",
    "  embeddings_index[word] = coefs\n",
    "f.close()\n",
    "\n",
    "print('Found %s word vectors.' %len(embeddings_index))"
   ]
  },
  {
   "cell_type": "code",
   "execution_count": 26,
   "id": "b8089bde",
   "metadata": {},
   "outputs": [],
   "source": [
    "embedding_matrix = np.zeros((vocab_size, Embedding))\n",
    "for word, i in word_index.items():\n",
    "  embedding_vector = embeddings_index.get(word)\n",
    "  if embedding_vector is not None:\n",
    "    embedding_matrix[i] = embedding_vector"
   ]
  },
  {
   "cell_type": "code",
   "execution_count": 27,
   "id": "717f0344",
   "metadata": {},
   "outputs": [],
   "source": [
    "embedding_layer = tf.keras.layers.Embedding(vocab_size,\n",
    "                                          Embedding,\n",
    "                                          weights=[embedding_matrix],\n",
    "                                          input_length=Sequence_Length,\n",
    "                                          trainable=False)"
   ]
  },
  {
   "cell_type": "markdown",
   "id": "c723250a",
   "metadata": {},
   "source": [
    "## Model Training using LTSM"
   ]
  },
  {
   "cell_type": "markdown",
   "id": "f6a43615",
   "metadata": {},
   "source": [
    "Our Deep Learning model can now be built. Key considerations including Model Architecture, Hyperparmeter Tuning, and Model Performance should be kept in mind when creating DL models.\n",
    "\n",
    "The word cloud shows that some words are frequently used in both positive and negative tweets. If we employ a machine learning model like Naive Bayes, SVD, etc., this can be a problem. We employ sequence models for this reason.\n",
    "\n",
    "### Sequence Model\n",
    "\n",
    "Reccurent neural networks can process a data sequence and learn a pattern of input sequence to produce either a data sequence or a scalar value as output. In this instance, the neural network predicts a scalar value."
   ]
  },
  {
   "cell_type": "code",
   "execution_count": 28,
   "id": "b9d62005",
   "metadata": {},
   "outputs": [],
   "source": [
    "from tensorflow.keras.layers import Conv1D, Bidirectional, LSTM, Dense, Input, Dropout\n",
    "from tensorflow.keras.layers import SpatialDropout1D\n",
    "from tensorflow.keras.callbacks import ModelCheckpoint"
   ]
  },
  {
   "cell_type": "code",
   "execution_count": 29,
   "id": "f9f9bb3a",
   "metadata": {},
   "outputs": [],
   "source": [
    "sequence_input = Input(shape=(Sequence_Length,), dtype='int32')\n",
    "embedding_sequences = embedding_layer(sequence_input)\n",
    "x = SpatialDropout1D(0.2)(embedding_sequences)\n",
    "x = Conv1D(64, 5, activation='relu')(x)\n",
    "x = Bidirectional(LSTM(64, dropout=0.2, recurrent_dropout=0.2))(x)\n",
    "x = Dense(512, activation='relu')(x)\n",
    "x = Dropout(0.5)(x)\n",
    "x = Dense(512, activation='relu')(x)\n",
    "outputs = Dense(1, activation='sigmoid')(x)\n",
    "model = tf.keras.Model(sequence_input, outputs)"
   ]
  },
  {
   "cell_type": "markdown",
   "id": "9a2656ed",
   "metadata": {},
   "source": [
    "### Optimization and Callbacks\n",
    "\n",
    "Adam, a gradient descent optimization algorithm, is used in this notebook.\n",
    "\n",
    "At the end of an epoch, callbacks are special functions that are invoked. After each epoch, we can employ any functions to carry out a certain operation. We will be using two callbacks, LRScheduler and ModelCheckPoint."
   ]
  },
  {
   "cell_type": "code",
   "execution_count": 30,
   "id": "d19d90cb",
   "metadata": {},
   "outputs": [],
   "source": [
    "from tensorflow.keras.optimizers import Adam\n",
    "from tensorflow.keras.callbacks import ReduceLROnPlateau\n",
    "\n",
    "model.compile(optimizer=Adam(learning_rate=LR), loss='binary_crossentropy',\n",
    "              metrics=['accuracy'])\n",
    "ReduceLROnPlateau = ReduceLROnPlateau(factor=0.1,\n",
    "                                     min_lr = 0.01,\n",
    "                                     monitor = 'val_loss',\n",
    "                                     verbose = 1)"
   ]
  },
  {
   "cell_type": "markdown",
   "id": "30421102",
   "metadata": {},
   "source": [
    "**Let's start training... It takes a long time if training with CPU so lets use our GPU if available.**"
   ]
  },
  {
   "cell_type": "code",
   "execution_count": 31,
   "id": "c747096f",
   "metadata": {
    "scrolled": true
   },
   "outputs": [
    {
     "name": "stdout",
     "output_type": "stream",
     "text": [
      "WARNING:tensorflow:From C:\\Users\\User\\AppData\\Local\\Temp/ipykernel_10744/3079911941.py:1: is_gpu_available (from tensorflow.python.framework.test_util) is deprecated and will be removed in a future version.\n",
      "Instructions for updating:\n",
      "Use `tf.config.list_physical_devices('GPU')` instead.\n",
      "Training on CPU \n"
     ]
    }
   ],
   "source": [
    "print(\"Training on GPU \") if tf.test.is_gpu_available() else print(\"Training on CPU \")"
   ]
  },
  {
   "cell_type": "code",
   "execution_count": 33,
   "id": "eaa981e7",
   "metadata": {},
   "outputs": [
    {
     "name": "stdout",
     "output_type": "stream",
     "text": [
      "Epoch 1/10\n",
      "1094/1094 [==============================] - 1412s 1s/step - loss: 0.5218 - accuracy: 0.7370 - val_loss: 0.4835 - val_accuracy: 0.7642 - lr: 0.0010\n",
      "Epoch 2/10\n",
      "1094/1094 [==============================] - 1242s 1s/step - loss: 0.4900 - accuracy: 0.7607 - val_loss: 0.4726 - val_accuracy: 0.7714 - lr: 0.0010\n",
      "Epoch 3/10\n",
      "1094/1094 [==============================] - 1265s 1s/step - loss: 0.4790 - accuracy: 0.7682 - val_loss: 0.4677 - val_accuracy: 0.7746 - lr: 0.0010\n",
      "Epoch 4/10\n",
      "1094/1094 [==============================] - 1376s 1s/step - loss: 0.4728 - accuracy: 0.7722 - val_loss: 0.4646 - val_accuracy: 0.7767 - lr: 0.0010\n",
      "Epoch 5/10\n",
      "1094/1094 [==============================] - 1255s 1s/step - loss: 0.4684 - accuracy: 0.7752 - val_loss: 0.4640 - val_accuracy: 0.7771 - lr: 0.0010\n",
      "Epoch 6/10\n",
      "1094/1094 [==============================] - 1350s 1s/step - loss: 0.4643 - accuracy: 0.7778 - val_loss: 0.4610 - val_accuracy: 0.7790 - lr: 0.0010\n",
      "Epoch 7/10\n",
      "1094/1094 [==============================] - 1361s 1s/step - loss: 0.4613 - accuracy: 0.7797 - val_loss: 0.4611 - val_accuracy: 0.7796 - lr: 0.0010\n",
      "Epoch 8/10\n",
      "1094/1094 [==============================] - 1094s 1000ms/step - loss: 0.4589 - accuracy: 0.7811 - val_loss: 0.4638 - val_accuracy: 0.7789 - lr: 0.0010\n",
      "Epoch 9/10\n",
      "1094/1094 [==============================] - 1260s 1s/step - loss: 0.4570 - accuracy: 0.7820 - val_loss: 0.4592 - val_accuracy: 0.7804 - lr: 0.0010\n",
      "Epoch 10/10\n",
      "1094/1094 [==============================] - 1239s 1s/step - loss: 0.4552 - accuracy: 0.7828 - val_loss: 0.4572 - val_accuracy: 0.7806 - lr: 0.0010\n"
     ]
    }
   ],
   "source": [
    "history = model.fit(x_train, y_train, batch_size=Batch_Size, epochs=Epochs,\n",
    "                    validation_data=(x_test, y_test), callbacks=[ReduceLROnPlateau])"
   ]
  },
  {
   "cell_type": "markdown",
   "id": "a186f4ae",
   "metadata": {},
   "source": [
    "## Model Evaluation\n",
    "\n",
    "We can assess the model's performance now that it has been trained. To put the model to the test, we'll use several evaluation metrics and procedures.\n",
    "\n",
    "Let's start with the Learning Curve of loss and accuracy of the model on each epoch."
   ]
  },
  {
   "cell_type": "code",
   "execution_count": 34,
   "id": "f00802d9",
   "metadata": {},
   "outputs": [
    {
     "data": {
      "text/plain": [
       "<matplotlib.legend.Legend at 0x2e9dda6efd0>"
      ]
     },
     "execution_count": 34,
     "metadata": {},
     "output_type": "execute_result"
    },
    {
     "data": {
      "image/png": "[encoded data removed]",
      "text/plain": [
       "<Figure size 432x288 with 2 Axes>"
      ]
     },
     "metadata": {
      "needs_background": "light"
     },
     "output_type": "display_data"
    }
   ],
   "source": [
    "s, (at, al) = plt.subplots(2,1)\n",
    "at.plot(history.history['accuracy'], c= 'b')\n",
    "at.plot(history.history['val_accuracy'], c='r')\n",
    "at.set_title('model accuracy')\n",
    "at.set_ylabel('accuracy')\n",
    "at.set_xlabel('epoch')\n",
    "at.legend(['LSTM_train', 'LSTM_val'], loc='upper left')\n",
    "\n",
    "al.plot(history.history['loss'], c='m')\n",
    "al.plot(history.history['val_loss'], c='c')\n",
    "al.set_title('model loss')\n",
    "al.set_ylabel('loss')\n",
    "al.set_xlabel('epoch')\n",
    "al.legend(['train', 'val'], loc = 'upper left')"
   ]
  },
  {
   "cell_type": "markdown",
   "id": "02f11aa2",
   "metadata": {},
   "source": [
    "The model will generate a prediction score that ranges from 0 to 1. By establishing a threshold value for it, we can categorise two classes. In our situation, I've specified a THRESHOLD value of 0.5 if the score is higher. It will then be categorised as a POSITIVE feeling."
   ]
  },
  {
   "cell_type": "code",
   "execution_count": 36,
   "id": "768b831b",
   "metadata": {},
   "outputs": [
    {
     "name": "stdout",
     "output_type": "stream",
     "text": [
      "49/49 [==============================] - 115s 2s/step\n"
     ]
    }
   ],
   "source": [
    "def decode_sentiment(score):\n",
    "    return \"Positive\" if score>0.5 else \"Negative\"\n",
    "\n",
    "\n",
    "scores = model.predict(x_test, verbose=1, batch_size=10000)\n",
    "y_pred_1d = [decode_sentiment(score) for score in scores]"
   ]
  },
  {
   "cell_type": "markdown",
   "id": "4e077fd4",
   "metadata": {},
   "source": [
    "## Confusion Matrix\n",
    "\n",
    "A excellent overview of the model's performance in the classification job is provided by the confusion matrix."
   ]
  },
  {
   "cell_type": "code",
   "execution_count": 37,
   "id": "3429ba22",
   "metadata": {},
   "outputs": [],
   "source": [
    "import itertools\n",
    "from sklearn.metrics import confusion_matrix, classification_report, accuracy_score\n",
    "def plot_confusion_matrix(cm, classes,\n",
    "                          title='Confusion matrix',\n",
    "                          cmap=plt.cm.BuPu):\n",
    "  \n",
    "    cm = cm.astype('float') / cm.sum(axis=1)[:, np.newaxis]\n",
    "\n",
    "    plt.imshow(cm, interpolation='nearest', cmap=cmap)\n",
    "    plt.title(title, fontsize=20)\n",
    "    plt.colorbar()\n",
    "    tick_marks = np.arange(len(classes))\n",
    "    plt.xticks(tick_marks, classes, fontsize=10)\n",
    "    plt.yticks(tick_marks, classes, fontsize=10)\n",
    "\n",
    "    fmt = '.2f'\n",
    "    thresh = cm.max() / 2.\n",
    "    for i, j in itertools.product(range(cm.shape[0]), range(cm.shape[1])):\n",
    "        plt.text(j, i, format(cm[i, j], fmt),\n",
    "                 horizontalalignment=\"center\",\n",
    "                 color=\"white\" if cm[i, j] > thresh else \"black\")\n",
    "\n",
    "    plt.ylabel('True ', fontsize=15)\n",
    "    plt.xlabel('Predicted ', fontsize=15)"
   ]
  },
  {
   "cell_type": "code",
   "execution_count": 38,
   "id": "2d5704f2",
   "metadata": {},
   "outputs": [
    {
     "data": {
      "image/png": "[encoded data removed]",
      "text/plain": [
       "<Figure size 432x432 with 2 Axes>"
      ]
     },
     "metadata": {
      "needs_background": "light"
     },
     "output_type": "display_data"
    }
   ],
   "source": [
    "cnf_matrix = confusion_matrix(test_data.Sentiment.to_list(), y_pred_1d)\n",
    "plt.figure(figsize=(6,6))\n",
    "plot_confusion_matrix(cnf_matrix, classes=test_data.Sentiment.unique(), title=\"Confusion matrix\")\n",
    "plt.show()"
   ]
  },
  {
   "cell_type": "markdown",
   "id": "d6886bc2",
   "metadata": {},
   "source": [
    "### Classification Scores"
   ]
  },
  {
   "cell_type": "code",
   "execution_count": 39,
   "id": "e34c6273",
   "metadata": {},
   "outputs": [
    {
     "name": "stdout",
     "output_type": "stream",
     "text": [
      "              precision    recall  f1-score   support\n",
      "\n",
      "    Negative       0.79      0.77      0.78    240832\n",
      "    Positive       0.77      0.80      0.78    239169\n",
      "\n",
      "    accuracy                           0.78    480001\n",
      "   macro avg       0.78      0.78      0.78    480001\n",
      "weighted avg       0.78      0.78      0.78    480001\n",
      "\n"
     ]
    }
   ],
   "source": [
    "print(classification_report(list(test_data.Sentiment), y_pred_1d))"
   ]
  },
  {
   "cell_type": "markdown",
   "id": "7049f595",
   "metadata": {},
   "source": [
    "In terms of NLP, the model we trained here is quite effective. Given that humans typically perform these activities with a very low baseline accuracy, about 80% accuracy is sufficient. You can continue to look through the dataset because some tweets can be in languages other than English. Therefore, our tokenizing and embedding won't affect them. However, in a real-world setting, this model is capable of performing the majority of sentiment analysis tasks."
   ]
  }
 ],
 "metadata": {
  "kernelspec": {
   "display_name": "Python 3 (ipykernel)",
   "language": "python",
   "name": "python3"
  },
  "language_info": {
   "codemirror_mode": {
    "name": "ipython",
    "version": 3
   },
   "file_extension": ".py",
   "mimetype": "text/x-python",
   "name": "python",
   "nbconvert_exporter": "python",
   "pygments_lexer": "ipython3",
   "version": "3.9.7"
  },
  "vscode": {
   "interpreter": {
    "hash": "f08154012ddadd8e950e6e9e035c7a7b32c136e7647e9b7c77e02eb723a8bedb"
   }
  }
 },
 "nbformat": 4,
 "nbformat_minor": 5
}
